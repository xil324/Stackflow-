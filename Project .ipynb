{
 "cells": [
  {
   "cell_type": "code",
   "execution_count": 408,
   "metadata": {},
   "outputs": [],
   "source": [
    "import numpy as np\n",
    "import pandas as pd\n",
    "import matplotlib.pyplot as plt\n",
    "from sklearn.preprocessing import OneHotEncoder"
   ]
  },
  {
   "cell_type": "code",
   "execution_count": 409,
   "metadata": {},
   "outputs": [],
   "source": [
    "#load dataset\n",
    "df =pd.read_csv(\"/Users/xiaohanliu/Desktop/data source/developer_survey_2020/survey_results_public.csv\")\n"
   ]
  },
  {
   "cell_type": "code",
   "execution_count": 410,
   "metadata": {},
   "outputs": [
    {
     "data": {
      "text/plain": [
       "Respondent                          0\n",
       "MainBranch                        299\n",
       "Hobbyist                           45\n",
       "Age                             19015\n",
       "Age1stCode                       6561\n",
       "CompFreq                        24392\n",
       "CompTotal                       29635\n",
       "ConvertedComp                   29705\n",
       "Country                           389\n",
       "CurrencyDesc                    18989\n",
       "CurrencySymbol                  18989\n",
       "DatabaseDesireNextYear          20391\n",
       "DatabaseWorkedWith              14924\n",
       "DevType                         15091\n",
       "EdLevel                          7030\n",
       "Employment                        607\n",
       "Ethnicity                       18513\n",
       "Gender                          13904\n",
       "JobFactors                      15112\n",
       "JobSat                          19267\n",
       "JobSeek                         12734\n",
       "LanguageDesireNextYear          10348\n",
       "LanguageWorkedWith               7083\n",
       "MiscTechDesireNextYear          22082\n",
       "MiscTechWorkedWith              24147\n",
       "NEWCollabToolsDesireNextYear    17174\n",
       "NEWCollabToolsWorkedWith        11578\n",
       "NEWDevOps                       21775\n",
       "NEWDevOpsImpt                   22729\n",
       "NEWEdImpt                       15996\n",
       "                                ...  \n",
       "NEWJobHuntResearch              23439\n",
       "NEWLearn                         8305\n",
       "NEWOffTopic                     13657\n",
       "NEWOnboardGood                  21838\n",
       "NEWOtherComms                    7256\n",
       "NEWOvertime                     21230\n",
       "NEWPurchaseResearch             27140\n",
       "NEWPurpleLink                    9658\n",
       "NEWSOSites                       6186\n",
       "NEWStuck                         9478\n",
       "OpSys                            8233\n",
       "OrgSize                         20127\n",
       "PlatformDesireNextYear          13856\n",
       "PlatformWorkedWith              10618\n",
       "PurchaseWhat                    25097\n",
       "Sexuality                       20469\n",
       "SOAccount                        7656\n",
       "SOComm                           7985\n",
       "SOPartFreq                      17669\n",
       "SOVisitFreq                      7491\n",
       "SurveyEase                      12659\n",
       "SurveyLength                    12760\n",
       "Trans                           15116\n",
       "UndergradMajor                  13466\n",
       "WebframeDesireNextYear          24437\n",
       "WebframeWorkedWith              22182\n",
       "WelcomeChange                   11778\n",
       "WorkWeekHrs                     23310\n",
       "YearsCode                        6777\n",
       "YearsCodePro                    18112\n",
       "Length: 61, dtype: int64"
      ]
     },
     "execution_count": 410,
     "metadata": {},
     "output_type": "execute_result"
    }
   ],
   "source": [
    "df.isnull().sum()\n",
    "\n",
    "# Hobbyist, JobFactors, JobSat, WorkWeekHrs,WelcomeChange have many null values. since \n",
    "# some of them are categorical, we want to drop the null values in order to answer the question. "
   ]
  },
  {
   "cell_type": "code",
   "execution_count": 411,
   "metadata": {},
   "outputs": [],
   "source": [
    "# drop null values \n",
    "df_new = df.dropna()"
   ]
  },
  {
   "cell_type": "code",
   "execution_count": 413,
   "metadata": {},
   "outputs": [],
   "source": [
    " # function to turn job satisfations to nummeirc values \n",
    "def get_score(col): \n",
    "    score=\"\"\n",
    "    if col =='Very satisfied': \n",
    "        score=5\n",
    "    if col=='Slightly satisfied': \n",
    "        score=4\n",
    "    if col=='Neither satisfied nor dissatisfied': \n",
    "        score=3\n",
    "    if col=='Slightly dissatisfied': \n",
    "        score=2\n",
    "    if col=='Very dissatisfied': \n",
    "        score=1\n",
    "    return score "
   ]
  },
  {
   "cell_type": "code",
   "execution_count": 414,
   "metadata": {},
   "outputs": [
    {
     "name": "stderr",
     "output_type": "stream",
     "text": [
      "/Applications/anaconda3/lib/python3.7/site-packages/ipykernel_launcher.py:3: SettingWithCopyWarning: \n",
      "A value is trying to be set on a copy of a slice from a DataFrame.\n",
      "Try using .loc[row_indexer,col_indexer] = value instead\n",
      "\n",
      "See the caveats in the documentation: http://pandas.pydata.org/pandas-docs/stable/indexing.html#indexing-view-versus-copy\n",
      "  This is separate from the ipykernel package so we can avoid doing imports until\n"
     ]
    }
   ],
   "source": [
    "# apply get_score function to Job Satisfactions \n",
    "score=df_new['JobSat'].apply(get_score)\n",
    "df_new['score']=score"
   ]
  },
  {
   "cell_type": "code",
   "execution_count": 415,
   "metadata": {},
   "outputs": [],
   "source": [
    "# function to split job factors and count how many factors each respondent usually select \n",
    "def get_factor(col): \n",
    "    factors=[]\n",
    "    factors.extend(col.split(\";\"))\n",
    "    return len(factors)"
   ]
  },
  {
   "cell_type": "code",
   "execution_count": 416,
   "metadata": {},
   "outputs": [
    {
     "name": "stderr",
     "output_type": "stream",
     "text": [
      "/Applications/anaconda3/lib/python3.7/site-packages/ipykernel_launcher.py:3: SettingWithCopyWarning: \n",
      "A value is trying to be set on a copy of a slice from a DataFrame.\n",
      "Try using .loc[row_indexer,col_indexer] = value instead\n",
      "\n",
      "See the caveats in the documentation: http://pandas.pydata.org/pandas-docs/stable/indexing.html#indexing-view-versus-copy\n",
      "  This is separate from the ipykernel package so we can avoid doing imports until\n"
     ]
    }
   ],
   "source": [
    "# apply get_factor function to Job Factors \n",
    "num_factors = df_new['JobFactors'].apply(get_factor)\n",
    "df_new['num_factors']=num_factors"
   ]
  },
  {
   "cell_type": "code",
   "execution_count": 347,
   "metadata": {},
   "outputs": [
    {
     "data": {
      "text/plain": [
       "num_factors\n",
       "1    3.380952\n",
       "2    3.750000\n",
       "3    3.779923\n",
       "Name: score, dtype: float64"
      ]
     },
     "execution_count": 347,
     "metadata": {},
     "output_type": "execute_result"
    }
   ],
   "source": [
    "#looking at relationship between number of selected job factors and job satisfactions. \n",
    "# people who selects more job factors required for a job usually are more satisfied in thier curent job. This \n",
    "# may suggest that people who are well-throught of kinds of jobs they want to get usually can get the job which meets thier expectations. \n",
    "df_new.groupby('num_factors')['score'].mean()"
   ]
  },
  {
   "cell_type": "code",
   "execution_count": 350,
   "metadata": {},
   "outputs": [
    {
     "data": {
      "text/plain": [
       "3    0.983622\n",
       "2    0.011393\n",
       "1    0.004985\n",
       "Name: num_factors, dtype: float64"
      ]
     },
     "execution_count": 350,
     "metadata": {},
     "output_type": "execute_result"
    }
   ],
   "source": [
    "df_new['num_factors'].value_counts()/ len(df_new['num_factors'])"
   ]
  },
  {
   "cell_type": "code",
   "execution_count": 351,
   "metadata": {},
   "outputs": [],
   "source": [
    "# function to get a list of job factors \n",
    "def factors(col_name):\n",
    "    factor_list=[]\n",
    "    for col in col_name: \n",
    "        factor_list.extend(col.split(';'))\n",
    "    return factor_list"
   ]
  },
  {
   "cell_type": "code",
   "execution_count": 352,
   "metadata": {},
   "outputs": [
    {
     "data": {
      "text/plain": [
       "Languages, frameworks, and other technologies I’d be working with         0.183441\n",
       "Office environment or company culture                                     0.157064\n",
       "Flex time or a flexible schedule                                          0.150769\n",
       "Opportunities for professional development                                0.136744\n",
       "Remote work options                                                       0.119611\n",
       "How widely used or impactful my work output would be                      0.077536\n",
       "Industry that I’d be working in                                           0.044227\n",
       "Financial performance or funding status of the company or organization    0.040641\n",
       "Family friendliness                                                       0.037692\n",
       "Specific department or team I’d be working on                             0.032592\n",
       "Diversity of the company or organization                                  0.019683\n",
       "Name: 0, dtype: float64"
      ]
     },
     "execution_count": 352,
     "metadata": {},
     "output_type": "execute_result"
    }
   ],
   "source": [
    "# apply functions to job factors to inspect job factors people select\n",
    "list_factor=factors(df_new['JobFactors'])\n",
    "list_factor = pd.DataFrame(list_factor)\n",
    "list_factor[0].value_counts()/len(list_factor)"
   ]
  },
  {
   "cell_type": "code",
   "execution_count": 353,
   "metadata": {},
   "outputs": [],
   "source": [
    "# fuction to transform years of coding column \n",
    "def get_yrs(col_name): \n",
    "    yrs = \"\"\n",
    "    for col in col_name: \n",
    "        if yearscode=='Less than 1 year': \n",
    "             yrs=1\n",
    "        if yearscode=='More than 50 years': \n",
    "             yrs=50\n",
    "        else: \n",
    "            yrs= col\n",
    "        return yrs "
   ]
  },
  {
   "cell_type": "code",
   "execution_count": 354,
   "metadata": {},
   "outputs": [
    {
     "name": "stderr",
     "output_type": "stream",
     "text": [
      "/Applications/anaconda3/lib/python3.7/site-packages/ipykernel_launcher.py:1: SettingWithCopyWarning: \n",
      "A value is trying to be set on a copy of a slice from a DataFrame.\n",
      "Try using .loc[row_indexer,col_indexer] = value instead\n",
      "\n",
      "See the caveats in the documentation: http://pandas.pydata.org/pandas-docs/stable/indexing.html#indexing-view-versus-copy\n",
      "  \"\"\"Entry point for launching an IPython kernel.\n"
     ]
    }
   ],
   "source": [
    "#apply get_yrs functions to years of coding \n",
    "df_new['code_years']= df_new['YearsCode'].apply(get_yrs)"
   ]
  },
  {
   "cell_type": "code",
   "execution_count": 397,
   "metadata": {},
   "outputs": [
    {
     "data": {
      "text/plain": [
       "9     8.0\n",
       "32    2.0\n",
       "41    1.0\n",
       "46    4.0\n",
       "68    1.0\n",
       "Name: code_yrs, dtype: float64"
      ]
     },
     "execution_count": 397,
     "metadata": {},
     "output_type": "execute_result"
    }
   ],
   "source": [
    "df_new['code_yrs'].head()"
   ]
  },
  {
   "cell_type": "code",
   "execution_count": 371,
   "metadata": {},
   "outputs": [
    {
     "data": {
      "text/html": [
       "<div>\n",
       "<style scoped>\n",
       "    .dataframe tbody tr th:only-of-type {\n",
       "        vertical-align: middle;\n",
       "    }\n",
       "\n",
       "    .dataframe tbody tr th {\n",
       "        vertical-align: top;\n",
       "    }\n",
       "\n",
       "    .dataframe thead th {\n",
       "        text-align: right;\n",
       "    }\n",
       "</style>\n",
       "<table border=\"1\" class=\"dataframe\">\n",
       "  <thead>\n",
       "    <tr style=\"text-align: right;\">\n",
       "      <th></th>\n",
       "      <th>Respondent</th>\n",
       "      <th>MainBranch</th>\n",
       "      <th>Hobbyist</th>\n",
       "      <th>Age</th>\n",
       "      <th>Age1stCode</th>\n",
       "      <th>CompFreq</th>\n",
       "      <th>CompTotal</th>\n",
       "      <th>ConvertedComp</th>\n",
       "      <th>Country</th>\n",
       "      <th>CurrencyDesc</th>\n",
       "      <th>...</th>\n",
       "      <th>UndergradMajor</th>\n",
       "      <th>WebframeDesireNextYear</th>\n",
       "      <th>WebframeWorkedWith</th>\n",
       "      <th>WelcomeChange</th>\n",
       "      <th>WorkWeekHrs</th>\n",
       "      <th>YearsCode</th>\n",
       "      <th>YearsCodePro</th>\n",
       "      <th>score</th>\n",
       "      <th>num_factors</th>\n",
       "      <th>code_years</th>\n",
       "    </tr>\n",
       "  </thead>\n",
       "  <tbody>\n",
       "    <tr>\n",
       "      <th>5526</th>\n",
       "      <td>NaN</td>\n",
       "      <td>NaN</td>\n",
       "      <td>NaN</td>\n",
       "      <td>NaN</td>\n",
       "      <td>NaN</td>\n",
       "      <td>NaN</td>\n",
       "      <td>NaN</td>\n",
       "      <td>NaN</td>\n",
       "      <td>NaN</td>\n",
       "      <td>NaN</td>\n",
       "      <td>...</td>\n",
       "      <td>NaN</td>\n",
       "      <td>NaN</td>\n",
       "      <td>NaN</td>\n",
       "      <td>NaN</td>\n",
       "      <td>NaN</td>\n",
       "      <td>NaN</td>\n",
       "      <td>NaN</td>\n",
       "      <td>NaN</td>\n",
       "      <td>NaN</td>\n",
       "      <td>NaN</td>\n",
       "    </tr>\n",
       "    <tr>\n",
       "      <th>9002</th>\n",
       "      <td>NaN</td>\n",
       "      <td>NaN</td>\n",
       "      <td>NaN</td>\n",
       "      <td>NaN</td>\n",
       "      <td>NaN</td>\n",
       "      <td>NaN</td>\n",
       "      <td>NaN</td>\n",
       "      <td>NaN</td>\n",
       "      <td>NaN</td>\n",
       "      <td>NaN</td>\n",
       "      <td>...</td>\n",
       "      <td>NaN</td>\n",
       "      <td>NaN</td>\n",
       "      <td>NaN</td>\n",
       "      <td>NaN</td>\n",
       "      <td>NaN</td>\n",
       "      <td>NaN</td>\n",
       "      <td>NaN</td>\n",
       "      <td>NaN</td>\n",
       "      <td>NaN</td>\n",
       "      <td>NaN</td>\n",
       "    </tr>\n",
       "    <tr>\n",
       "      <th>30329</th>\n",
       "      <td>NaN</td>\n",
       "      <td>NaN</td>\n",
       "      <td>NaN</td>\n",
       "      <td>NaN</td>\n",
       "      <td>NaN</td>\n",
       "      <td>NaN</td>\n",
       "      <td>NaN</td>\n",
       "      <td>NaN</td>\n",
       "      <td>NaN</td>\n",
       "      <td>NaN</td>\n",
       "      <td>...</td>\n",
       "      <td>NaN</td>\n",
       "      <td>NaN</td>\n",
       "      <td>NaN</td>\n",
       "      <td>NaN</td>\n",
       "      <td>NaN</td>\n",
       "      <td>NaN</td>\n",
       "      <td>NaN</td>\n",
       "      <td>NaN</td>\n",
       "      <td>NaN</td>\n",
       "      <td>NaN</td>\n",
       "    </tr>\n",
       "  </tbody>\n",
       "</table>\n",
       "<p>3 rows × 64 columns</p>\n",
       "</div>"
      ],
      "text/plain": [
       "       Respondent MainBranch Hobbyist  Age Age1stCode CompFreq  CompTotal  \\\n",
       "5526          NaN        NaN      NaN  NaN        NaN      NaN        NaN   \n",
       "9002          NaN        NaN      NaN  NaN        NaN      NaN        NaN   \n",
       "30329         NaN        NaN      NaN  NaN        NaN      NaN        NaN   \n",
       "\n",
       "       ConvertedComp Country CurrencyDesc    ...     UndergradMajor  \\\n",
       "5526             NaN     NaN          NaN    ...                NaN   \n",
       "9002             NaN     NaN          NaN    ...                NaN   \n",
       "30329            NaN     NaN          NaN    ...                NaN   \n",
       "\n",
       "      WebframeDesireNextYear WebframeWorkedWith WelcomeChange WorkWeekHrs  \\\n",
       "5526                     NaN                NaN           NaN         NaN   \n",
       "9002                     NaN                NaN           NaN         NaN   \n",
       "30329                    NaN                NaN           NaN         NaN   \n",
       "\n",
       "      YearsCode YearsCodePro score num_factors code_years  \n",
       "5526        NaN          NaN   NaN         NaN        NaN  \n",
       "9002        NaN          NaN   NaN         NaN        NaN  \n",
       "30329       NaN          NaN   NaN         NaN        NaN  \n",
       "\n",
       "[3 rows x 64 columns]"
      ]
     },
     "execution_count": 371,
     "metadata": {},
     "output_type": "execute_result"
    }
   ],
   "source": [
    "row =df_new[df_new['code_years']=='L']\n",
    "row1=df_new[df_new['code_years']=='M']"
   ]
  },
  {
   "cell_type": "code",
   "execution_count": 375,
   "metadata": {},
   "outputs": [],
   "source": [
    "#drop rows where years of coding equal 'L','M'\n",
    "df_new= df_new.drop([5526,9002,30329])"
   ]
  },
  {
   "cell_type": "code",
   "execution_count": 396,
   "metadata": {},
   "outputs": [],
   "source": [
    "# transform type of code_yrs from string to float \n",
    "df_new['code_yrs']=df_new['code_years'].astype(float)"
   ]
  },
  {
   "cell_type": "code",
   "execution_count": 417,
   "metadata": {},
   "outputs": [
    {
     "data": {
      "text/html": [
       "<div>\n",
       "<style scoped>\n",
       "    .dataframe tbody tr th:only-of-type {\n",
       "        vertical-align: middle;\n",
       "    }\n",
       "\n",
       "    .dataframe tbody tr th {\n",
       "        vertical-align: top;\n",
       "    }\n",
       "\n",
       "    .dataframe thead th {\n",
       "        text-align: right;\n",
       "    }\n",
       "</style>\n",
       "<table border=\"1\" class=\"dataframe\">\n",
       "  <thead>\n",
       "    <tr style=\"text-align: right;\">\n",
       "      <th></th>\n",
       "      <th>Respondent</th>\n",
       "      <th>Age</th>\n",
       "      <th>CompTotal</th>\n",
       "      <th>ConvertedComp</th>\n",
       "      <th>WorkWeekHrs</th>\n",
       "      <th>score</th>\n",
       "      <th>num_factors</th>\n",
       "    </tr>\n",
       "    <tr>\n",
       "      <th>Hobbyist</th>\n",
       "      <th></th>\n",
       "      <th></th>\n",
       "      <th></th>\n",
       "      <th></th>\n",
       "      <th></th>\n",
       "      <th></th>\n",
       "      <th></th>\n",
       "    </tr>\n",
       "  </thead>\n",
       "  <tbody>\n",
       "    <tr>\n",
       "      <th>No</th>\n",
       "      <td>28246.848787</td>\n",
       "      <td>33.559201</td>\n",
       "      <td>4.694574e+06</td>\n",
       "      <td>96070.894437</td>\n",
       "      <td>41.104850</td>\n",
       "      <td>3.653352</td>\n",
       "      <td>2.970043</td>\n",
       "    </tr>\n",
       "    <tr>\n",
       "      <th>Yes</th>\n",
       "      <td>27390.910308</td>\n",
       "      <td>31.775342</td>\n",
       "      <td>2.350182e+06</td>\n",
       "      <td>114704.129841</td>\n",
       "      <td>41.297594</td>\n",
       "      <td>3.802392</td>\n",
       "      <td>2.980353</td>\n",
       "    </tr>\n",
       "  </tbody>\n",
       "</table>\n",
       "</div>"
      ],
      "text/plain": [
       "            Respondent        Age     CompTotal  ConvertedComp  WorkWeekHrs  \\\n",
       "Hobbyist                                                                      \n",
       "No        28246.848787  33.559201  4.694574e+06   96070.894437    41.104850   \n",
       "Yes       27390.910308  31.775342  2.350182e+06  114704.129841    41.297594   \n",
       "\n",
       "             score  num_factors  \n",
       "Hobbyist                         \n",
       "No        3.653352     2.970043  \n",
       "Yes       3.802392     2.980353  "
      ]
     },
     "execution_count": 417,
     "metadata": {},
     "output_type": "execute_result"
    }
   ],
   "source": [
    "#group data by hobby\n",
    "# people who are younger and more satisfied in current job are more likely to have coding as hobby\n",
    "df_new.groupby('Hobbyist').mean()"
   ]
  },
  {
   "cell_type": "code",
   "execution_count": 404,
   "metadata": {},
   "outputs": [
    {
     "data": {
      "text/plain": [
       "Just as welcome now as I felt last year                    0.751544\n",
       "Somewhat more welcome now than last year                   0.092874\n",
       "Somewhat less welcome now than last year                   0.064846\n",
       "A lot more welcome now than last year                      0.044656\n",
       "A lot less welcome now than last year                      0.035154\n",
       "Not applicable - I did not use Stack Overflow last year    0.010926\n",
       "Name: WelcomeChange, dtype: float64"
      ]
     },
     "execution_count": 404,
     "metadata": {},
     "output_type": "execute_result"
    }
   ],
   "source": [
    "#inspect welcome change \n",
    "df_new['WelcomeChange'].value_counts()/len(df_new['WelcomeChange'])"
   ]
  },
  {
   "cell_type": "code",
   "execution_count": 406,
   "metadata": {},
   "outputs": [
    {
     "data": {
      "text/html": [
       "<div>\n",
       "<style scoped>\n",
       "    .dataframe tbody tr th:only-of-type {\n",
       "        vertical-align: middle;\n",
       "    }\n",
       "\n",
       "    .dataframe tbody tr th {\n",
       "        vertical-align: top;\n",
       "    }\n",
       "\n",
       "    .dataframe thead th {\n",
       "        text-align: right;\n",
       "    }\n",
       "</style>\n",
       "<table border=\"1\" class=\"dataframe\">\n",
       "  <thead>\n",
       "    <tr style=\"text-align: right;\">\n",
       "      <th></th>\n",
       "      <th>code_yrs</th>\n",
       "      <th>WorkWeekHrs</th>\n",
       "    </tr>\n",
       "    <tr>\n",
       "      <th>WelcomeChange</th>\n",
       "      <th></th>\n",
       "      <th></th>\n",
       "    </tr>\n",
       "  </thead>\n",
       "  <tbody>\n",
       "    <tr>\n",
       "      <th>A lot less welcome now than last year</th>\n",
       "      <td>2.871622</td>\n",
       "      <td>40.760135</td>\n",
       "    </tr>\n",
       "    <tr>\n",
       "      <th>A lot more welcome now than last year</th>\n",
       "      <td>3.664894</td>\n",
       "      <td>41.398936</td>\n",
       "    </tr>\n",
       "    <tr>\n",
       "      <th>Just as welcome now as I felt last year</th>\n",
       "      <td>2.896966</td>\n",
       "      <td>41.306858</td>\n",
       "    </tr>\n",
       "    <tr>\n",
       "      <th>Not applicable - I did not use Stack Overflow last year</th>\n",
       "      <td>3.108696</td>\n",
       "      <td>41.586957</td>\n",
       "    </tr>\n",
       "    <tr>\n",
       "      <th>Somewhat less welcome now than last year</th>\n",
       "      <td>2.516484</td>\n",
       "      <td>41.154762</td>\n",
       "    </tr>\n",
       "    <tr>\n",
       "      <th>Somewhat more welcome now than last year</th>\n",
       "      <td>3.531969</td>\n",
       "      <td>41.132992</td>\n",
       "    </tr>\n",
       "  </tbody>\n",
       "</table>\n",
       "</div>"
      ],
      "text/plain": [
       "                                                    code_yrs  WorkWeekHrs\n",
       "WelcomeChange                                                            \n",
       "A lot less welcome now than last year               2.871622    40.760135\n",
       "A lot more welcome now than last year               3.664894    41.398936\n",
       "Just as welcome now as I felt last year             2.896966    41.306858\n",
       "Not applicable - I did not use Stack Overflow l...  3.108696    41.586957\n",
       "Somewhat less welcome now than last year            2.516484    41.154762\n",
       "Somewhat more welcome now than last year            3.531969    41.132992"
      ]
     },
     "execution_count": 406,
     "metadata": {},
     "output_type": "execute_result"
    }
   ],
   "source": [
    "#inspect relationship between welcome changes and years of coding\n",
    "# people who have less years of coding are less likely to welcome change \n",
    "df_new.groupby('WelcomeChange')['code_yrs','WorkWeekHrs'].mean()"
   ]
  },
  {
   "cell_type": "code",
   "execution_count": null,
   "metadata": {},
   "outputs": [],
   "source": []
  },
  {
   "cell_type": "code",
   "execution_count": null,
   "metadata": {},
   "outputs": [],
   "source": []
  },
  {
   "cell_type": "code",
   "execution_count": null,
   "metadata": {},
   "outputs": [],
   "source": []
  },
  {
   "cell_type": "code",
   "execution_count": null,
   "metadata": {},
   "outputs": [],
   "source": []
  },
  {
   "cell_type": "code",
   "execution_count": null,
   "metadata": {},
   "outputs": [],
   "source": []
  },
  {
   "cell_type": "code",
   "execution_count": null,
   "metadata": {},
   "outputs": [],
   "source": []
  },
  {
   "cell_type": "code",
   "execution_count": null,
   "metadata": {},
   "outputs": [],
   "source": []
  },
  {
   "cell_type": "code",
   "execution_count": null,
   "metadata": {},
   "outputs": [],
   "source": []
  },
  {
   "cell_type": "code",
   "execution_count": null,
   "metadata": {},
   "outputs": [],
   "source": []
  }
 ],
 "metadata": {
  "kernelspec": {
   "display_name": "Python 3",
   "language": "python",
   "name": "python3"
  },
  "language_info": {
   "codemirror_mode": {
    "name": "ipython",
    "version": 3
   },
   "file_extension": ".py",
   "mimetype": "text/x-python",
   "name": "python",
   "nbconvert_exporter": "python",
   "pygments_lexer": "ipython3",
   "version": "3.7.2"
  }
 },
 "nbformat": 4,
 "nbformat_minor": 2
}
